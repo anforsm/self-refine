{
 "cells": [
  {
   "cell_type": "code",
   "execution_count": 17,
   "metadata": {},
   "outputs": [
    {
     "name": "stdout",
     "output_type": "stream",
     "text": [
      "The autoreload extension is already loaded. To reload it, use:\n",
      "  %reload_ext autoreload\n"
     ]
    }
   ],
   "source": [
    "%load_ext autoreload\n",
    "%autoreload 2\n",
    "from pie import init, iterate, feedback"
   ]
  },
  {
   "cell_type": "code",
   "execution_count": 15,
   "metadata": {},
   "outputs": [],
   "source": [
    "slow_code = \"\"\"\n",
    "def sum(n):\n",
    "    res = 0\n",
    "    for i in range(n):\n",
    "        res += i\n",
    "    return res\n",
    "\"\"\""
   ]
  },
  {
   "cell_type": "code",
   "execution_count": 18,
   "metadata": {},
   "outputs": [],
   "source": [
    "response, prompt = feedback(slow_code)"
   ]
  },
  {
   "cell_type": "code",
   "execution_count": 22,
   "metadata": {},
   "outputs": [
    {
     "name": "stdout",
     "output_type": "stream",
     "text": [
      "This code is slow because it has a time complexity of O(n), where n is the input value. The loop iterates n times, and for each iteration, it performs a constant amount of work (adding i to res). As a result, the total amount of work increases linearly with the input size, making the code slow for large values of n.\n"
     ]
    }
   ],
   "source": [
    "print(response)\n",
    "generated_feedback = response"
   ]
  },
  {
   "cell_type": "code",
   "execution_count": 23,
   "metadata": {},
   "outputs": [],
   "source": [
    "response, prompt = iterate(slow_code, generated_feedback)"
   ]
  },
  {
   "cell_type": "code",
   "execution_count": 24,
   "metadata": {},
   "outputs": [
    {
     "name": "stdout",
     "output_type": "stream",
     "text": [
      "def sum(n):\n",
      "    return n * (n - 1) // 2\n",
      "\n",
      "# The improved version of the code uses a mathematical formula to calculate the sum of numbers from 0 to n-1. This formula has a time complexity of O(1), as it performs a constant amount of work regardless of the input size. By using this formula, the code can calculate the sum much faster for large values of n.\n"
     ]
    }
   ],
   "source": [
    "print(response)"
   ]
  },
  {
   "cell_type": "code",
   "execution_count": 8,
   "metadata": {},
   "outputs": [],
   "source": [
    "response, prompt = init(\"\"\"\n",
    "def sum(n):\n",
    "    res = 0\n",
    "    for i in range(n):\n",
    "        res += i\n",
    "    return res\n",
    "\"\"\")"
   ]
  },
  {
   "cell_type": "code",
   "execution_count": 13,
   "metadata": {},
   "outputs": [
    {
     "name": "stdout",
     "output_type": "stream",
     "text": [
      "# slower version:\n",
      "\n",
      "a, b = input().split()\n",
      "n = int(a + b)\n",
      "\n",
      "flag = False\n",
      "for i in range(n):\n",
      "    if i ** 2 == n:\n",
      "        flag = True\n",
      "        break\n",
      "\n",
      "print('Yes' if flag else 'No')\n",
      "\n",
      "\n",
      "# optimized version of the same code:\n",
      "\n",
      "a, b = input().split()\n",
      "n = int(a + b)\n",
      "\n",
      "flag = False\n",
      "for i in range(1000):\n",
      "    if i ** 2 == n:\n",
      "        flag = True\n",
      "        break\n",
      "\n",
      "print('Yes' if flag else 'No')\n",
      "\n",
      "### END ###\n",
      "\n",
      "# slower version:\n",
      "\n",
      "# ABC148D - Brick Break\n",
      "def main():\n",
      "    N, *A = map(int, open(0).read().split())\n",
      "    remaining = 0\n",
      "    cur = 0  # current index\n",
      "    for target in range(1, N + 1):\n",
      "        be_kept = False\n",
      "        for i in range(cur, N):\n",
      "            if A[i] == target:\n",
      "                remaining += 1\n",
      "                cur = i + 1\n",
      "                be_kept = True\n",
      "                break\n",
      "        if not be_kept:\n",
      "            break\n",
      "    print(N - remaining if remaining else -1)\n",
      "\n",
      "\n",
      "if __name__ == '__main__':\n",
      "    main()\n",
      "\n",
      "\n",
      "# optimized version of the same code:\n",
      "\n",
      "# ABC148D - Brick Break\n",
      "def main():\n",
      "    N, *A = map(int, open(0).read().split())\n",
      "    remaining = 0\n",
      "    target = 1\n",
      "    for i in A:\n",
      "        if i == target:\n",
      "            remaining += 1\n",
      "            target += 1\n",
      "    print(N - remaining if remaining else -1)\n",
      "\n",
      "\n",
      "if __name__ == '__main__':\n",
      "    main()\n",
      "\n",
      "### END ###\n",
      "\n",
      "# slower version:\n",
      "\n",
      "# 077 B\n",
      "import numpy as np\n",
      "\n",
      "N = int(input())\n",
      "n=int(np.sqrt(N))\n",
      "print(n**2)\n",
      "\n",
      "\n",
      "# optimized version of the same code:\n",
      "\n",
      "N = int(input())\n",
      "n = int(N**0.5) \n",
      "print(n**2)\n",
      "\n",
      "### END #### slower version:\n",
      "\n",
      "def sum(n):\n",
      "    res = 0\n",
      "    for i in range(n):\n",
      "        res += i\n",
      "    return res\n",
      "\n",
      "\n",
      "\n",
      "# optimized version of the same code:\n",
      "def sum(n):\n",
      "    return n * (n - 1) // 2\n"
     ]
    }
   ],
   "source": [
    "print(prompt + response)"
   ]
  }
 ],
 "metadata": {
  "kernelspec": {
   "display_name": "nlp-project",
   "language": "python",
   "name": "python3"
  },
  "language_info": {
   "codemirror_mode": {
    "name": "ipython",
    "version": 3
   },
   "file_extension": ".py",
   "mimetype": "text/x-python",
   "name": "python",
   "nbconvert_exporter": "python",
   "pygments_lexer": "ipython3",
   "version": "3.11.5"
  }
 },
 "nbformat": 4,
 "nbformat_minor": 2
}
