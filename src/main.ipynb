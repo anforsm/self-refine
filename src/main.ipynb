{
 "cells": [
  {
   "cell_type": "code",
   "execution_count": 1,
   "metadata": {},
   "outputs": [],
   "source": [
    "%load_ext autoreload\n",
    "%autoreload 2\n",
    "import torch\n",
    "import transformers\n",
    "from transformers import AutoModel\n",
    "from transformers import AutoModelForCausalLM, AutoTokenizer \n",
    "from openai import OpenAI\n",
    "from openai_key import OPENAI_API_KEY\n",
    "from conf import *"
   ]
  },
  {
   "cell_type": "code",
   "execution_count": 2,
   "metadata": {},
   "outputs": [],
   "source": [
    "client = OpenAI(api_key=OPENAI_API_KEY)"
   ]
  },
  {
   "cell_type": "code",
   "execution_count": 3,
   "metadata": {},
   "outputs": [],
   "source": [
    "model = AutoModelForCausalLM.from_pretrained(MODEL_1)\n",
    "tokenizer = AutoTokenizer.from_pretrained(MODEL_1)"
   ]
  },
  {
   "cell_type": "code",
   "execution_count": 4,
   "metadata": {},
   "outputs": [],
   "source": [
    "def M_local(*inputs):\n",
    "  concatenated_input = \"\\n\".join(inputs)\n",
    "  tokens = tokenizer.encode(concatenated_input, return_tensors=\"pt\")\n",
    "  generated_ids = model.generate(tokens, pad_token_id=tokenizer.eos_token_id, max_new_tokens=100)\n",
    "  output = tokenizer.decode(generated_ids[0], skip_special_tokens=True)\n",
    "  return output[len(concatenated_input):], output\n",
    "\n",
    "def M_openai(*inputs):\n",
    "  concatenated_input = \"\\n\".join(inputs)\n",
    "  response = client.chat.completions.create(model=\"gpt-3.5-turbo\", messages=[\n",
    "    {\"role\": \"system\", \"content\": \"You are a helpful assistant.\"},\n",
    "    {\"role\": \"user\", \"content\": concatenated_input}\n",
    "  ], max_tokens=1000)\n",
    "  return response.choices[0].message.content\n",
    "\n",
    "M = M_local"
   ]
  },
  {
   "cell_type": "code",
   "execution_count": 5,
   "metadata": {},
   "outputs": [
    {
     "data": {
      "text/plain": [
       "(' of the new\\nversion of the\\nC++ standard library.\\nThis is a test of the new\\nversion of the\\nC++ standard library.\\nThis is a test of the new\\nversion of the\\nC++ standard library.\\nThis is a test of the new\\nversion of the\\nC++ standard library.\\nThis is a test of the new\\nversion of the\\nC++ standard library.\\nThis is a test of the new\\nversion of the\\nC++',\n",
       " 'This is\\na test of the new\\nversion of the\\nC++ standard library.\\nThis is a test of the new\\nversion of the\\nC++ standard library.\\nThis is a test of the new\\nversion of the\\nC++ standard library.\\nThis is a test of the new\\nversion of the\\nC++ standard library.\\nThis is a test of the new\\nversion of the\\nC++ standard library.\\nThis is a test of the new\\nversion of the\\nC++')"
      ]
     },
     "execution_count": 5,
     "metadata": {},
     "output_type": "execute_result"
    }
   ],
   "source": [
    "out = M(\"This is\", \"a test\")\n",
    "out"
   ]
  },
  {
   "cell_type": "code",
   "execution_count": 6,
   "metadata": {},
   "outputs": [],
   "source": [
    "p_gen = f\"\"\"You are a programmer. You solve programming problems. \n",
    "\n",
    "Here is an example:\n",
    "Input: Write code to print 'Hello World'\n",
    "\n",
    "Response: print('Hello World')\n",
    "\"\"\"\n",
    "\n",
    "p_fb = f\"\"\"You are a code reviewer. You will be given a problem and a solution and you should give feedback on the solution.\n",
    "Here is an example:\n",
    "Input: Write code to print 'Hello World'\n",
    "\n",
    "import sys\n",
    "sys.stdout.write('Hi sir!!')\n",
    "\n",
    "Response: The code does not print 'Hello World' as required. Additionally, you should use print() instead of sys.stdout.write().\n",
    "\"\"\"\n",
    "\n",
    "p_refine = f\"\"\"You improve upon code given a problem, a solution and some feedback on the solution.\n",
    "\n",
    "Here is an example:\n",
    "Input: Write code to print 'Hello World'\n",
    "\n",
    "import sys\n",
    "sys.stdout.write('Hi sir!!')\n",
    "\n",
    "The code does not print 'Hello World' as required. Additionally, you should use print() instead of sys.stdout.write().\n",
    "\n",
    "Response: print('Hello World')\n",
    "\"\"\""
   ]
  },
  {
   "cell_type": "code",
   "execution_count": 7,
   "metadata": {},
   "outputs": [],
   "source": [
    "x = f\"\"\"Input: Write code to calculate the sum of 1, 2, ..., N\n",
    "\"\"\"\n",
    "\n",
    "y0 = M(p_gen, x)\n",
    "#fb = M(p_fb, x, y0)\n",
    "#y1 = M(p_refine, x, y0, fb)"
   ]
  },
  {
   "cell_type": "code",
   "execution_count": 8,
   "metadata": {},
   "outputs": [
    {
     "name": "stdout",
     "output_type": "stream",
     "text": [
      "('Response: N = N + 1\\n\\nInput: Write code to print the sum of 1, 2,..., N\\n\\nResponse: N = N + 1\\n\\nInput: Write code to print the sum of 1, 2,..., N\\n\\nResponse: N = N + 1\\n\\nInput: Write code to print the sum of 1, 2,..., N\\n\\nResponse: N = N + 1\\n\\nInput: Write code to print the sum of', \"You are a programmer. You solve programming problems. \\n\\nHere is an example:\\nInput: Write code to print 'Hello World'\\n\\nResponse: print('Hello World')\\n\\nInput: Write code to calculate the sum of 1, 2,..., N\\n\\nResponse: N = N + 1\\n\\nInput: Write code to print the sum of 1, 2,..., N\\n\\nResponse: N = N + 1\\n\\nInput: Write code to print the sum of 1, 2,..., N\\n\\nResponse: N = N + 1\\n\\nInput: Write code to print the sum of 1, 2,..., N\\n\\nResponse: N = N + 1\\n\\nInput: Write code to print the sum of\")\n"
     ]
    }
   ],
   "source": [
    "print(y0)"
   ]
  },
  {
   "cell_type": "code",
   "execution_count": 9,
   "metadata": {},
   "outputs": [
    {
     "ename": "TypeError",
     "evalue": "sequence item 2: expected str instance, tuple found",
     "output_type": "error",
     "traceback": [
      "\u001b[0;31m---------------------------------------------------------------------------\u001b[0m",
      "\u001b[0;31mTypeError\u001b[0m                                 Traceback (most recent call last)",
      "\u001b[1;32m/Users/anton/Documents/GitHub/self-refine/src/main.ipynb Cell 9\u001b[0m line \u001b[0;36m1\n\u001b[0;32m----> <a href='vscode-notebook-cell:/Users/anton/Documents/GitHub/self-refine/src/main.ipynb#X11sZmlsZQ%3D%3D?line=0'>1</a>\u001b[0m fb \u001b[39m=\u001b[39m M(p_fb, x, y0)\n",
      "\u001b[1;32m/Users/anton/Documents/GitHub/self-refine/src/main.ipynb Cell 9\u001b[0m line \u001b[0;36m2\n\u001b[1;32m      <a href='vscode-notebook-cell:/Users/anton/Documents/GitHub/self-refine/src/main.ipynb#X11sZmlsZQ%3D%3D?line=0'>1</a>\u001b[0m \u001b[39mdef\u001b[39;00m \u001b[39mM_local\u001b[39m(\u001b[39m*\u001b[39minputs):\n\u001b[0;32m----> <a href='vscode-notebook-cell:/Users/anton/Documents/GitHub/self-refine/src/main.ipynb#X11sZmlsZQ%3D%3D?line=1'>2</a>\u001b[0m   concatenated_input \u001b[39m=\u001b[39m \u001b[39m\"\u001b[39;49m\u001b[39m\\n\u001b[39;49;00m\u001b[39m\"\u001b[39;49m\u001b[39m.\u001b[39;49mjoin(inputs)\n\u001b[1;32m      <a href='vscode-notebook-cell:/Users/anton/Documents/GitHub/self-refine/src/main.ipynb#X11sZmlsZQ%3D%3D?line=2'>3</a>\u001b[0m   tokens \u001b[39m=\u001b[39m tokenizer\u001b[39m.\u001b[39mencode(concatenated_input, return_tensors\u001b[39m=\u001b[39m\u001b[39m\"\u001b[39m\u001b[39mpt\u001b[39m\u001b[39m\"\u001b[39m)\n\u001b[1;32m      <a href='vscode-notebook-cell:/Users/anton/Documents/GitHub/self-refine/src/main.ipynb#X11sZmlsZQ%3D%3D?line=3'>4</a>\u001b[0m   generated_ids \u001b[39m=\u001b[39m model\u001b[39m.\u001b[39mgenerate(tokens, pad_token_id\u001b[39m=\u001b[39mtokenizer\u001b[39m.\u001b[39meos_token_id, max_new_tokens\u001b[39m=\u001b[39m\u001b[39m100\u001b[39m)\n",
      "\u001b[0;31mTypeError\u001b[0m: sequence item 2: expected str instance, tuple found"
     ]
    }
   ],
   "source": [
    "fb = M(p_fb, x, y0)"
   ]
  },
  {
   "cell_type": "code",
   "execution_count": null,
   "metadata": {},
   "outputs": [
    {
     "name": "stdout",
     "output_type": "stream",
     "text": [
      "The solution you provided looks correct and efficient for calculating the sum of numbers from 1 to N. Good job!\n",
      "\n",
      "Just a minor improvement, you can update the function name to `calculate_sum_of_numbers` or `calculate_sum` to make it more descriptive.\n",
      "\n",
      "Overall, great job!\n"
     ]
    }
   ],
   "source": [
    "print(fb)"
   ]
  },
  {
   "cell_type": "code",
   "execution_count": null,
   "metadata": {},
   "outputs": [],
   "source": [
    "y1 = M(p_refine, x, y0, fb)"
   ]
  },
  {
   "cell_type": "code",
   "execution_count": null,
   "metadata": {},
   "outputs": [
    {
     "data": {
      "text/plain": [
       "'The solution you provided looks correct and efficient for calculating the sum of numbers from 1 to N. Good job!\\n\\nJust a minor improvement, you can update the function name to `calculate_sum_of_numbers` or `calculate_sum` to make it more descriptive.\\n\\nOverall, great job!'"
      ]
     },
     "execution_count": 100,
     "metadata": {},
     "output_type": "execute_result"
    }
   ],
   "source": [
    "fb"
   ]
  },
  {
   "cell_type": "code",
   "execution_count": null,
   "metadata": {},
   "outputs": [
    {
     "name": "stdout",
     "output_type": "stream",
     "text": [
      "Input: Write code to find the square root of a given number using the Newton-Raphson method.\n",
      "\n",
      "def square_root(number):\n",
      "    approximation = number / 2\n",
      "    while True:\n",
      "        better_approximation = (approximation + number/approximation) / 2\n",
      "        if abs(approximation - better_approximation) < 0.0001:\n",
      "            break\n",
      "        approximation = better_approximation\n",
      "    return better_approximation\n",
      "\n",
      "Feedback: The code works correctly and efficiently. However, it would be better to add some comments to explain the logic behind the Newton-Raphson method and the purpose and parameters of the function.\n",
      "\n",
      "Response:\n",
      "```\n",
      "def square_root(number):\n",
      "    # Initialize approximation with half of the number\n",
      "    approximation = number / 2\n",
      "    \n",
      "    # Iterate until the approximation converges to the square root\n",
      "    while True:\n",
      "        # Calculate a better approximation using Newton-Raphson method\n",
      "        better_approximation = (approximation + number/approximation) / 2\n",
      "        \n",
      "        # Check if the approximation is close enough to the better approximation\n",
      "        if abs(approximation - better_approximation) < 0.0001:\n",
      "            break\n",
      "        \n",
      "        # Update the approximation with the better approximation\n",
      "        approximation = better_approximation\n",
      "    \n",
      "    return better_approximation\n",
      "```\n",
      "\n",
      "The code now includes comments that explain the purpose, parameters, and the logic behind the Newton-Raphson method. It is a good practice to add comments to make the code more readable and understandable for future readers. Well done!\n"
     ]
    }
   ],
   "source": [
    "print(y1)"
   ]
  }
 ],
 "metadata": {
  "kernelspec": {
   "display_name": "nlp-project",
   "language": "python",
   "name": "python3"
  },
  "language_info": {
   "codemirror_mode": {
    "name": "ipython",
    "version": 3
   },
   "file_extension": ".py",
   "mimetype": "text/x-python",
   "name": "python",
   "nbconvert_exporter": "python",
   "pygments_lexer": "ipython3",
   "version": "3.11.5"
  }
 },
 "nbformat": 4,
 "nbformat_minor": 2
}
