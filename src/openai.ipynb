{
 "cells": [
  {
   "cell_type": "code",
   "execution_count": 2,
   "metadata": {},
   "outputs": [],
   "source": [
    "from openai import OpenAI\n",
    "from openai_key import OPENAI_API_KEY"
   ]
  },
  {
   "cell_type": "code",
   "execution_count": 8,
   "metadata": {},
   "outputs": [
    {
     "data": {
      "text/plain": [
       "'python3 this isa test '"
      ]
     },
     "execution_count": 8,
     "metadata": {},
     "output_type": "execute_result"
    }
   ],
   "source": [
    "s = \"```python3 this isa test ```\"\n",
    "if \"```\" in s:\n",
    "  start = \"```\"\n",
    "  result = s[s.find(start) + len(start):s.rfind(start)]\n",
    "result"
   ]
  },
  {
   "cell_type": "code",
   "execution_count": 3,
   "metadata": {},
   "outputs": [],
   "source": [
    "import requests"
   ]
  },
  {
   "cell_type": "code",
   "execution_count": 27,
   "metadata": {},
   "outputs": [],
   "source": [
    "# make http get request to openai API\n",
    "import requests\n",
    "import os\n",
    "\n",
    "# Assuming the OPENAI_API_KEY is set in your environment variables\n",
    "openai_api_key = os.environ.get('OPENAI_API_KEY')\n",
    "\n",
    "url = \"https://api.openai.com/v1/chat/completions\"\n",
    "\n",
    "headers = {\n",
    "    \"Content-Type\": \"application/json\",\n",
    "    \"Authorization\": f\"Bearer {OPENAI_API_KEY}\"\n",
    "}\n",
    "\n",
    "data = {\n",
    "    #\"model\": \"gpt-3.5-turbo\",\n",
    "    \"model\": \"gpt-4-1106-preview\",\n",
    "    \"messages\": [\n",
    "        {\n",
    "            \"role\": \"system\",\n",
    "            \"content\": \"You are a helpful assistant.\"\n",
    "        },\n",
    "        {\n",
    "            \"role\": \"user\",\n",
    "            \"content\": \"Who won the world series in 2020?\"\n",
    "        },\n",
    "        {\n",
    "            \"role\": \"assistant\",\n",
    "            \"content\": \"The Los Angeles Dodgers won the World Series in 2020.\"\n",
    "        },\n",
    "        {\n",
    "            \"role\": \"user\",\n",
    "            \"content\": \"Where was it played?\"\n",
    "        }\n",
    "    ]\n",
    "}\n",
    "\n",
    "response = requests.post(url, headers=headers, json=data)"
   ]
  },
  {
   "cell_type": "code",
   "execution_count": 28,
   "metadata": {},
   "outputs": [
    {
     "name": "stdout",
     "output_type": "stream",
     "text": [
      "721441\n",
      "499\n",
      "{'Date': 'Thu, 07 Dec 2023 22:56:03 GMT', 'Content-Type': 'application/json', 'Transfer-Encoding': 'chunked', 'Connection': 'keep-alive', 'access-control-allow-origin': '*', 'Cache-Control': 'no-cache, must-revalidate', 'openai-model': 'gpt-4-1106-preview', 'openai-organization': 'user-akbo22h6ll5sfrzf0vayfkwy', 'openai-processing-ms': '3662', 'openai-version': '2020-10-01', 'strict-transport-security': 'max-age=15724800; includeSubDomains', 'x-ratelimit-limit-requests': '500', 'x-ratelimit-limit-tokens': '1500000', 'x-ratelimit-limit-tokens_usage_based': '1500000', 'x-ratelimit-remaining-requests': '499', 'x-ratelimit-remaining-tokens': '721441', 'x-ratelimit-remaining-tokens_usage_based': '945906', 'x-ratelimit-reset-requests': '120ms', 'x-ratelimit-reset-tokens': '12h27m24.974s', 'x-ratelimit-reset-tokens_usage_based': '8h51m55.79s', 'x-request-id': 'a0fad86a1479d84df5e1b826f17f98e5', 'CF-Cache-Status': 'DYNAMIC', 'Set-Cookie': '__cf_bm=r7DXMfeWZvMXSLrQnIquJmGcqBufnAgnPgje3ZbiWr8-1701989763-0-Aas18jTu+vx+LDrLlVaQ9Lxl174bZthOwKoTKkmvG4h4PL1wocHOe4DWM3vUbPZzAR8YZJISJo8+atBztHdTQU0=; path=/; expires=Thu, 07-Dec-23 23:26:03 GMT; domain=.api.openai.com; HttpOnly; Secure; SameSite=None, _cfuvid=OCNgZl8r_Iv7Fio6z6nMXc2G6p1kDt9tXrIRJyFm3J4-1701989763926-0-604800000; path=/; domain=.api.openai.com; HttpOnly; Secure; SameSite=None', 'Server': 'cloudflare', 'CF-RAY': '83205c007aa42e09-ARN', 'Content-Encoding': 'gzip', 'alt-svc': 'h3=\":443\"; ma=86400'}\n"
     ]
    }
   ],
   "source": [
    "print(response.headers[\"x-ratelimit-remaining-tokens\"])\n",
    "print(response.headers[\"x-ratelimit-remaining-requests\"])\n",
    "print(response.headers)"
   ]
  },
  {
   "cell_type": "code",
   "execution_count": 4,
   "metadata": {},
   "outputs": [
    {
     "data": {
      "text/plain": [
       "{'error': {'message': 'This is a chat model and not supported in the v1/completions endpoint. Did you mean to use v1/chat/completions?',\n",
       "  'type': 'invalid_request_error',\n",
       "  'param': 'model',\n",
       "  'code': None}}"
      ]
     },
     "execution_count": 4,
     "metadata": {},
     "output_type": "execute_result"
    }
   ],
   "source": [
    "resp = get_openai_response()\n",
    "resp"
   ]
  },
  {
   "cell_type": "code",
   "execution_count": 22,
   "metadata": {},
   "outputs": [],
   "source": [
    "client = OpenAI(api_key=OPENAI_API_KEY)"
   ]
  },
  {
   "cell_type": "code",
   "execution_count": 23,
   "metadata": {},
   "outputs": [],
   "source": [
    "response = client.chat.completions.create(\n",
    "  model=\"gpt-3.5-turbo\",\n",
    "  messages=[\n",
    "    {\"role\": \"system\", \"content\": \"You are a helpful assistant.\"},\n",
    "    {\"role\": \"user\", \"content\": \"Who won the world series in 2020?\"},\n",
    "    {\"role\": \"assistant\", \"content\": \"The Los Angeles Dodgers won the World Series in 2020.\"},\n",
    "    {\"role\": \"user\", \"content\": \"Where was it played?\"}\n",
    "  ]\n",
    ")"
   ]
  },
  {
   "cell_type": "code",
   "execution_count": 26,
   "metadata": {},
   "outputs": [
    {
     "name": "stdout",
     "output_type": "stream",
     "text": [
      "CompletionUsage(completion_tokens=17, prompt_tokens=53, total_tokens=70)\n"
     ]
    }
   ],
   "source": [
    "print(response.usage)"
   ]
  },
  {
   "cell_type": "code",
   "execution_count": null,
   "metadata": {},
   "outputs": [
    {
     "data": {
      "text/plain": [
       "'The 2020 World Series was played in Arlington, Texas at the Globe Life Field.'"
      ]
     },
     "execution_count": 8,
     "metadata": {},
     "output_type": "execute_result"
    }
   ],
   "source": [
    "response.choices[0].message.content"
   ]
  }
 ],
 "metadata": {
  "kernelspec": {
   "display_name": "nlp-project",
   "language": "python",
   "name": "python3"
  },
  "language_info": {
   "codemirror_mode": {
    "name": "ipython",
    "version": 3
   },
   "file_extension": ".py",
   "mimetype": "text/x-python",
   "name": "python",
   "nbconvert_exporter": "python",
   "pygments_lexer": "ipython3",
   "version": "3.11.5"
  }
 },
 "nbformat": 4,
 "nbformat_minor": 2
}
