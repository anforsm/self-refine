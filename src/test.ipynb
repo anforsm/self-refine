{
 "cells": [
  {
   "cell_type": "code",
   "execution_count": 1,
   "metadata": {},
   "outputs": [
    {
     "name": "stderr",
     "output_type": "stream",
     "text": [
      "/home/anton/miniconda3/envs/nlp-project/lib/python3.11/site-packages/tqdm/auto.py:21: TqdmWarning: IProgress not found. Please update jupyter and ipywidgets. See https://ipywidgets.readthedocs.io/en/stable/user_install.html\n",
      "  from .autonotebook import tqdm as notebook_tqdm\n"
     ]
    }
   ],
   "source": [
    "%load_ext autoreload\n",
    "%autoreload 2\n",
    "import torch\n",
    "from transformers import AutoModelForCausalLM, AutoTokenizer \n",
    "from readability import self_refine\n",
    "import pandas as pd\n",
    "import json\n",
    "device = \"cuda\" if torch.cuda.is_available() else \"cpu\""
   ]
  },
  {
   "cell_type": "code",
   "execution_count": 2,
   "metadata": {},
   "outputs": [],
   "source": [
    "\n",
    "model_name = \"TheBloke/Llama-2-7B-Chat-fp16\""
   ]
  },
  {
   "cell_type": "code",
   "execution_count": 8,
   "metadata": {},
   "outputs": [],
   "source": [
    "#model_name = \"codellama/CodeLLama-7b-hf\"\n",
    "#model = AutoModelForCausalLM.from_pretrained(model_name, torch_dtype=torch.float16)\n",
    "#model = model.to(device)\n",
    "tokenizer = AutoTokenizer.from_pretrained(model_name)"
   ]
  },
  {
   "cell_type": "code",
   "execution_count": 3,
   "metadata": {},
   "outputs": [],
   "source": [
    "programs = pd.read_json(\"data/code_samples/codenet-python-test-1k.jsonl\", lines=True, orient=\"records\")\n",
    "\n",
    "row1 = list(programs.iterrows())[0][1]\n",
    "code = row1[\"input\"]"
   ]
  },
  {
   "cell_type": "code",
   "execution_count": 4,
   "metadata": {},
   "outputs": [
    {
     "data": {
      "text/plain": [
       "'A, B, C, X, Y = list(map(int, input().split()))\\n\\n\\n\\nans = 5000 * 2 * 10 ** 5\\n\\nfor i in range(10 ** 5 + 1):\\n\\n    s = i * 2 * C + max(0, X - i) * A + max(0, Y - i) * B\\n\\n    ans = min(ans, s)\\n\\n\\n\\nprint(ans)'"
      ]
     },
     "execution_count": 4,
     "metadata": {},
     "output_type": "execute_result"
    }
   ],
   "source": [
    "code"
   ]
  },
  {
   "cell_type": "code",
   "execution_count": null,
   "metadata": {},
   "outputs": [],
   "source": []
  },
  {
   "cell_type": "code",
   "execution_count": 6,
   "metadata": {},
   "outputs": [
    {
     "name": "stdout",
     "output_type": "stream",
     "text": [
      "---------------\n",
      "I have some code. Can you give one suggestion to improve readability. Don't fix the code, just give a suggestion.\n",
      "\n",
      "A, B, C, X, Y = list(map(int, input().split()))\n",
      "\n",
      "ans = 5000 * 2 * 10 ** 5\n",
      "for i in range(10 ** 5 + 1):\n",
      "    s = i * 2 * C + max(0, X - i) * A + max(0, Y - i) * B\n",
      "    ans = min(ans, s)\n",
      "\n",
      "print(ans)\n",
      "\n",
      "I have some code. Can you give one suggestion to improve readability. Don't fix the code, just give a suggestion.\n",
      "\n",
      "A, B, C, X, Y = list(map(int, input().split()))\n",
      "\n",
      "ans = 5000 * 2 * 10 ** 5\n",
      "for i in range(10 ** 5 + 1):\n",
      "    s = i * 2 * C + max(0, X - i) * A + max(0, Y - i) * B\n",
      "    ans = min(ans, s)\n",
      "\n",
      "print(ans)\n",
      "\n",
      "=======\n",
      "I have some code. Can you give one suggestion to improve readability. Don't fix the code, just give a suggestion.\n",
      "\n",
      "A, B, C, X, Y = list(map(int, input().split()))\n",
      "\n",
      "ans = 5000 * 2 * 10 ** 5\n",
      "for i in range(10 ** 5 + 1):\n",
      "    s = i * 2 * C + max(0, X - i) * A + max(0, Y - i) * B\n",
      "    ans = min(ans, s)\n",
      "\n",
      "print(ans)\n",
      "\n",
      "My suggestion is to use a consistent naming convention throughout the code. The current code uses both camelCase and snake_case for variable names, which can make the code harder to read. It would be better to stick to one convention throughout the code. For example, you could use camelCase for all variable names, or snake_case for all variable names. This will make the code easier to read and understand.\n",
      "=======\n",
      "---------------\n",
      "\n",
      "My suggestion is to use a consistent naming convention throughout the code. The current code uses both camelCase and snake_case for variable names, which can make the code harder to read. It would be better to stick to one convention throughout the code. For example, you could use camelCase for all variable names, or snake_case for all variable names. This will make the code easier to read and understand.\n",
      "---------------\n",
      "I have some code, and a suggestion to improve the code below.\n",
      "\n",
      "A, B, C, X, Y = list(map(int, input().split()))\n",
      "\n",
      "ans = 5000 * 2 * 10 ** 5\n",
      "for i in range(10 ** 5 + 1):\n",
      "    s = i * 2 * C + max(0, X - i) * A + max(0, Y - i) * B\n",
      "    ans = min(ans, s)\n",
      "\n",
      "print(ans)\n",
      "\n",
      "\n",
      "My suggestion is to use a consistent naming convention throughout the code. The current code uses both camelCase and snake_case for variable names, which can make the code harder to read. It would be better to stick to one convention throughout the code. For example, you could use camelCase for all variable names, or snake_case for all variable names. This will make the code easier to read and understand.\n",
      "\n",
      "Now, create a new version of the code considering the suggestion I provided. Respond only with the new code. The next tokens after this line should be completely interpretable by Python.\n",
      "\n",
      "I have some code, and a suggestion to improve the code below.\n",
      "\n",
      "A, B, C, X, Y = list(map(int, input().split()))\n",
      "\n",
      "ans = 5000 * 2 * 10 ** 5\n",
      "for i in range(10 ** 5 + 1):\n",
      "    s = i * 2 * C + max(0, X - i) * A + max(0, Y - i) * B\n",
      "    ans = min(ans, s)\n",
      "\n",
      "print(ans)\n",
      "\n",
      "\n",
      "My suggestion is to use a consistent naming convention throughout the code. The current code uses both camelCase and snake_case for variable names, which can make the code harder to read. It would be better to stick to one convention throughout the code. For example, you could use camelCase for all variable names, or snake_case for all variable names. This will make the code easier to read and understand.\n",
      "\n",
      "Now, create a new version of the code considering the suggestion I provided. Respond only with the new code. The next tokens after this line should be completely interpretable by Python.\n",
      "\n",
      "=======\n",
      "I have some code, and a suggestion to improve the code below.\n",
      "\n",
      "A, B, C, X, Y = list(map(int, input().split()))\n",
      "\n",
      "ans = 5000 * 2 * 10 ** 5\n",
      "for i in range(10 ** 5 + 1):\n",
      "    s = i * 2 * C + max(0, X - i) * A + max(0, Y - i) * B\n",
      "    ans = min(ans, s)\n",
      "\n",
      "print(ans)\n",
      "\n",
      "\n",
      "My suggestion is to use a consistent naming convention throughout the code. The current code uses both camelCase and snake_case for variable names, which can make the code harder to read. It would be better to stick to one convention throughout the code. For example, you could use camelCase for all variable names, or snake_case for all variable names. This will make the code easier to read and understand.\n",
      "\n",
      "Now, create a new version of the code considering the suggestion I provided. Respond only with the new code. The next tokens after this line should be completely interpretable by Python.\n",
      "\n",
      "Thank you!\n",
      "=======\n",
      "---------------\n",
      "\n",
      "Thank you!\n"
     ]
    }
   ],
   "source": [
    "fb, new_code = self_refine(code, model, tokenizer)"
   ]
  },
  {
   "cell_type": "code",
   "execution_count": 61,
   "metadata": {},
   "outputs": [],
   "source": [
    "test = \"\"\"<s>[INST] <<SYS>>\n",
    "You are a helpful, respectful and honest assistant. Always answer as helpfully as possible.\n",
    "<</SYS>>\n",
    "\n",
    "I have some code, and a suggestion to improve the code below.\n",
    "\n",
    "```\n",
    "A, B, C, X, Y = list(map(int, input().split()))\n",
    "\n",
    "ans = 5000 * 2 * 10 ** 5\n",
    "for i in range(10 ** 5 + 1):\n",
    "    s = i * 2 * C + max(0, X - i) * A + max(0, Y - i) * B\n",
    "    ans = min(ans, s)\n",
    "\n",
    "print(ans)\n",
    "```\n",
    "\n",
    "My suggestion is to use a consistent naming convention throughout the code. The current code uses both camelCase and snake_case for variable names, which can make the code harder to read. It would be better to stick to one convention throughout the code. For example, you could use camelCase for all variable names, or snake_case for all variable names. This will make the code easier to read and understand.\n",
    "\n",
    "Now implement the suggestion above and create a new version of the code. Do not answer with any text. Answer with only code. [/INST]\n",
    "\"\"\""
   ]
  },
  {
   "cell_type": "code",
   "execution_count": 4,
   "metadata": {},
   "outputs": [
    {
     "name": "stderr",
     "output_type": "stream",
     "text": [
      "Loading checkpoint shards: 100%|██████████| 2/2 [00:35<00:00, 17.81s/it]\n",
      "/home/anton/miniconda3/envs/nlp-project/lib/python3.11/site-packages/transformers/generation/configuration_utils.py:381: UserWarning: `do_sample` is set to `False`. However, `temperature` is set to `0.9` -- this flag is only used in sample-based generation modes. You should set `do_sample=True` or unset `temperature`. This was detected when initializing the generation config instance, which means the corresponding file may hold incorrect parameterization and should be fixed.\n",
      "  warnings.warn(\n",
      "/home/anton/miniconda3/envs/nlp-project/lib/python3.11/site-packages/transformers/generation/configuration_utils.py:386: UserWarning: `do_sample` is set to `False`. However, `top_p` is set to `0.6` -- this flag is only used in sample-based generation modes. You should set `do_sample=True` or unset `top_p`. This was detected when initializing the generation config instance, which means the corresponding file may hold incorrect parameterization and should be fixed.\n",
      "  warnings.warn(\n"
     ]
    }
   ],
   "source": [
    "import transformers\n",
    "pipeline = transformers.pipeline(\n",
    "  \"text-generation\",\n",
    "  model=model_name,\n",
    "  torch_dtype=torch.float16,\n",
    "  device_map=\"auto\",\n",
    ")"
   ]
  },
  {
   "cell_type": "code",
   "execution_count": 62,
   "metadata": {},
   "outputs": [],
   "source": [
    "from llm_wrapper import call_llm\n",
    "out = call_llm(test, None, tokenizer, pipeline=pipeline)"
   ]
  },
  {
   "cell_type": "code",
   "execution_count": 63,
   "metadata": {},
   "outputs": [
    {
     "name": "stdout",
     "output_type": "stream",
     "text": [
      "\n",
      "A, B, C, X, Y = list(map(int, input().split()))\n",
      "ans = 5000 * 2 * 10 ** 5\n",
      "for i in range(10 ** 5 + 1):\n",
      "    s = i * 2 * C + max(0, X - i) * A + max(0, Y - i) * B\n",
      "    ans = min(ans, s)\n",
      "print(ans)\n",
      "\n"
     ]
    }
   ],
   "source": [
    "print(out)"
   ]
  },
  {
   "cell_type": "code",
   "execution_count": 25,
   "metadata": {},
   "outputs": [
    {
     "name": "stdout",
     "output_type": "stream",
     "text": [
      "I have some code, and a suggestion to improve the code below.\n",
      "\n",
      "A, B, C, X, Y = list(map(int, input().split()))\n",
      "\n",
      "ans = 5000 * 2 * 10 ** 5\n",
      "for i in range(10 ** 5 + 1):\n",
      "    s = i * 2 * C + max(0, X - i) * A + max(0, Y - i) * B\n",
      "    ans = min(ans, s)\n",
      "\n",
      "print(ans)\n",
      "\n",
      "\n",
      "My suggestion is to use a consistent naming convention throughout the code. The current code uses both camelCase and snake_case for variable names, which can make the code harder to read. It would be better to stick to one convention throughout the code. For example, you could use camelCase for all variable names, or snake_case for all variable names. This will make the code easier to read and understand.\n",
      "\n",
      "Now, create a new version of the code considering the suggestion I provided. Respond only with the new code. The next tokens after this line should be completely interpretable by Python.\n",
      "=======\n",
      "I have some code, and a suggestion to improve the code below.\n",
      "\n",
      "A, B, C, X, Y = list(map(int, input().split()))\n",
      "\n",
      "ans = 5000 * 2 * 10 ** 5\n",
      "for i in range(10 ** 5 + 1):\n",
      "    s = i * 2 * C + max(0, X - i) * A + max(0, Y - i) * B\n",
      "    ans = min(ans, s)\n",
      "\n",
      "print(ans)\n",
      "\n",
      "\n",
      "My suggestion is to use a consistent naming convention throughout the code. The current code uses both camelCase and snake_case for variable names, which can make the code harder to read. It would be better to stick to one convention throughout the code. For example, you could use camelCase for all variable names, or snake_case for all variable names. This will make the code easier to read and understand.\n",
      "\n",
      "Now, create a new version of the code considering the suggestion I provided. Respond only with the new code. The next tokens after this line should be completely interpretable by Python.\n",
      "=======\n"
     ]
    },
    {
     "data": {
      "text/plain": [
       "''"
      ]
     },
     "execution_count": 25,
     "metadata": {},
     "output_type": "execute_result"
    }
   ],
   "source": [
    "call_llm(test, model, tokenizer)"
   ]
  },
  {
   "cell_type": "code",
   "execution_count": null,
   "metadata": {},
   "outputs": [],
   "source": []
  },
  {
   "cell_type": "code",
   "execution_count": null,
   "metadata": {},
   "outputs": [],
   "source": [
    "fb2, new_code2 = self_refine(new_code, model, tokenizer)"
   ]
  },
  {
   "cell_type": "code",
   "execution_count": 9,
   "metadata": {},
   "outputs": [
    {
     "data": {
      "text/plain": [
       "'\\nA, B, C, X, Y = list(map(int, input().split()))\\n\\nans = 5000 * 2 * 10 ** 5\\nfor i in range(10 ** 5 + 1):\\n    s = i * 2 * values[0] + max(0, X_value - i) * values[1] + max(0, Y_value - i) * values[2]\\n    ans = min(ans, s)\\n\\nprint(ans)'"
      ]
     },
     "execution_count": 9,
     "metadata": {},
     "output_type": "execute_result"
    }
   ],
   "source": [
    "new_code"
   ]
  },
  {
   "cell_type": "code",
   "execution_count": 8,
   "metadata": {},
   "outputs": [
    {
     "data": {
      "text/plain": [
       "'\\nThe suggestion I have is to use a more descriptive variable name for the variable `C`. The variable `C` is currently used to represent the constant 2, which is not very descriptive. Instead, you could use a more descriptive name like `CONSTANT` or `TWO`.\\n\\nFor example, you could change the line `C = 2` to `CONSTANT = 2`. This makes the code more readable because it is clearer what the'"
      ]
     },
     "execution_count": 8,
     "metadata": {},
     "output_type": "execute_result"
    }
   ],
   "source": [
    "out"
   ]
  },
  {
   "cell_type": "code",
   "execution_count": 8,
   "metadata": {},
   "outputs": [
    {
     "name": "stdout",
     "output_type": "stream",
     "text": [
      "('    s = i * 2 * C + max(0', '* 2 * C + max(0, X - i) * A + max(0, Y - i) * B\\n    ans = min(ans, s)\\n\\nprint(ans)\\n\\n(\\'\\\\nComment: Please edit the question to limit it to a specific problem with enough detail to identify an adequate answer.\\\\n\\\\nAnswer: \\\\\\\\begin{code}\\\\nA, B, C, X, Y = list(map(int, input().split()))\\\\n\\\\nans = 5000 * 2 * 10 ** 5\\\\nfor i in range(10 ** 5 + 1):\\\\n    s = i * 2 * C +\\', \"I have some code. Can you give one suggestion to improve readability. Don\\'t fix the code, just give a suggestion.\\\\n\\\\nA, B, C, X, Y = list(map(int, input().split()))\\\\n\\\\nans = 5000 * 2 * 10 ** 5\\\\nfor i in range(10 ** 5 + 1):\\\\n    s = i * 2 * C + max(0, X - i) * A + max(0, Y - i) * B\\\\n    ans = min(ans, s)\\\\n\\\\nprint(ans)\\\\n\\\\nComment: Please edit the question to limit it to a specific problem with enough detail to identify an adequate answer.\\\\n\\\\nAnswer: \\\\\\\\begin{code}\\\\nA, B, C, X, Y = list(map(int, input().split()))\\\\n\\\\nans = 5000 * 2 * 10 ** 5\\\\nfor i in range(10 ** 5 + 1):\\\\n    s = i * 2 * C +\")\\n\\nNow create a new version of the code considering the suggestion.\\n\\nComment: I have some code. Can you give one suggestion to improve readability. Don\\'t fix the code, just give a suggestion.\\n\\nA, B, C, X, Y = list(map(int, input().split()))\\n\\nans = 5000 * 2 * 10 ** 5\\nfor i in range(10 ** 5 + 1):\\n    s = i * 2 * C + max(0')\n"
     ]
    }
   ],
   "source": [
    "print(out)"
   ]
  },
  {
   "cell_type": "code",
   "execution_count": 23,
   "metadata": {},
   "outputs": [],
   "source": [
    "response, prompt = iterate(slow_code, generated_feedback)"
   ]
  },
  {
   "cell_type": "code",
   "execution_count": 24,
   "metadata": {},
   "outputs": [
    {
     "name": "stdout",
     "output_type": "stream",
     "text": [
      "def sum(n):\n",
      "    return n * (n - 1) // 2\n",
      "\n",
      "# The improved version of the code uses a mathematical formula to calculate the sum of numbers from 0 to n-1. This formula has a time complexity of O(1), as it performs a constant amount of work regardless of the input size. By using this formula, the code can calculate the sum much faster for large values of n.\n"
     ]
    }
   ],
   "source": [
    "print(response)"
   ]
  },
  {
   "cell_type": "code",
   "execution_count": 8,
   "metadata": {},
   "outputs": [],
   "source": [
    "response, prompt = init(\"\"\"\n",
    "def sum(n):\n",
    "    res = 0\n",
    "    for i in range(n):\n",
    "        res += i\n",
    "    return res\n",
    "\"\"\")"
   ]
  },
  {
   "cell_type": "code",
   "execution_count": 13,
   "metadata": {},
   "outputs": [
    {
     "name": "stdout",
     "output_type": "stream",
     "text": [
      "# slower version:\n",
      "\n",
      "a, b = input().split()\n",
      "n = int(a + b)\n",
      "\n",
      "flag = False\n",
      "for i in range(n):\n",
      "    if i ** 2 == n:\n",
      "        flag = True\n",
      "        break\n",
      "\n",
      "print('Yes' if flag else 'No')\n",
      "\n",
      "\n",
      "# optimized version of the same code:\n",
      "\n",
      "a, b = input().split()\n",
      "n = int(a + b)\n",
      "\n",
      "flag = False\n",
      "for i in range(1000):\n",
      "    if i ** 2 == n:\n",
      "        flag = True\n",
      "        break\n",
      "\n",
      "print('Yes' if flag else 'No')\n",
      "\n",
      "### END ###\n",
      "\n",
      "# slower version:\n",
      "\n",
      "# ABC148D - Brick Break\n",
      "def main():\n",
      "    N, *A = map(int, open(0).read().split())\n",
      "    remaining = 0\n",
      "    cur = 0  # current index\n",
      "    for target in range(1, N + 1):\n",
      "        be_kept = False\n",
      "        for i in range(cur, N):\n",
      "            if A[i] == target:\n",
      "                remaining += 1\n",
      "                cur = i + 1\n",
      "                be_kept = True\n",
      "                break\n",
      "        if not be_kept:\n",
      "            break\n",
      "    print(N - remaining if remaining else -1)\n",
      "\n",
      "\n",
      "if __name__ == '__main__':\n",
      "    main()\n",
      "\n",
      "\n",
      "# optimized version of the same code:\n",
      "\n",
      "# ABC148D - Brick Break\n",
      "def main():\n",
      "    N, *A = map(int, open(0).read().split())\n",
      "    remaining = 0\n",
      "    target = 1\n",
      "    for i in A:\n",
      "        if i == target:\n",
      "            remaining += 1\n",
      "            target += 1\n",
      "    print(N - remaining if remaining else -1)\n",
      "\n",
      "\n",
      "if __name__ == '__main__':\n",
      "    main()\n",
      "\n",
      "### END ###\n",
      "\n",
      "# slower version:\n",
      "\n",
      "# 077 B\n",
      "import numpy as np\n",
      "\n",
      "N = int(input())\n",
      "n=int(np.sqrt(N))\n",
      "print(n**2)\n",
      "\n",
      "\n",
      "# optimized version of the same code:\n",
      "\n",
      "N = int(input())\n",
      "n = int(N**0.5) \n",
      "print(n**2)\n",
      "\n",
      "### END #### slower version:\n",
      "\n",
      "def sum(n):\n",
      "    res = 0\n",
      "    for i in range(n):\n",
      "        res += i\n",
      "    return res\n",
      "\n",
      "\n",
      "\n",
      "# optimized version of the same code:\n",
      "def sum(n):\n",
      "    return n * (n - 1) // 2\n"
     ]
    }
   ],
   "source": [
    "print(prompt + response)"
   ]
  }
 ],
 "metadata": {
  "kernelspec": {
   "display_name": "nlp-project",
   "language": "python",
   "name": "python3"
  },
  "language_info": {
   "codemirror_mode": {
    "name": "ipython",
    "version": 3
   },
   "file_extension": ".py",
   "mimetype": "text/x-python",
   "name": "python",
   "nbconvert_exporter": "python",
   "pygments_lexer": "ipython3",
   "version": "3.11.5"
  }
 },
 "nbformat": 4,
 "nbformat_minor": 2
}
